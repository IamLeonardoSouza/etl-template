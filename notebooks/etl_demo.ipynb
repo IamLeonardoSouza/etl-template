{
 "cells": [
  {
   "cell_type": "code",
   "execution_count": null,
   "id": "b707bcd9",
   "metadata": {
    "vscode": {
     "languageId": "plaintext"
    }
   },
   "outputs": [],
   "source": [
    "from src.extract.api_extract import extract_api\n",
    "from src.transform.data_cleaning import clean_data\n",
    "import pandas as pd\n",
    "\n",
    "df = extract_api()\n",
    "df_clean = clean_data(df)\n",
    "\n",
    "df_clean.head()"
   ]
  }
 ],
 "metadata": {
  "language_info": {
   "name": "python"
  }
 },
 "nbformat": 4,
 "nbformat_minor": 5
}
