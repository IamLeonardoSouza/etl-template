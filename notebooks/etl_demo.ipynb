{
 "cells": [
  {
   "cell_type": "code",
   "execution_count": null,
   "id": "b707bcd9",
   "metadata": {
    "vscode": {
     "languageId": "plaintext"
    }
   },
   "outputs": [],
   "source": [
    "# ETL Demo using API and Bot\n",
    "\n",
    "from src.api.extract.api_extract import extract_api\n",
    "from src.api.transform.api_transform import transform_api\n",
    "from src.api.saver.api_saver import save_api\n",
    "\n",
    "from src.bot.extract.bot_extract import extract_bot\n",
    "from src.bot.transform.bot_transform import transform_bot\n",
    "from src.bot.saver.bot_saver import save_bot\n",
    "\n",
    "# API ETL\n",
    "df_api = extract_api()\n",
    "df_api_clean = transform_api(df_api)\n",
    "# save_api(df_api_clean) \n",
    "\n",
    "# Bot ETL\n",
    "# df_bot = extract_bot()  # Necessário arquivo Excel\n",
    "# df_bot_clean = transform_bot(df_bot)\n",
    "# save_bot(df_bot_clean)\n"
   ]
  }
 ],
 "metadata": {
  "language_info": {
   "name": "python"
  }
 },
 "nbformat": 4,
 "nbformat_minor": 5
}
